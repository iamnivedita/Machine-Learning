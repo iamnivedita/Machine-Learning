{
 "cells": [
  {
   "cell_type": "markdown",
   "id": "769848d5",
   "metadata": {},
   "source": [
    "# <span style = \"color:coral\"> Customer Behaviour Classification </span>"
   ]
  },
  {
   "cell_type": "markdown",
   "id": "48ef98f4",
   "metadata": {},
   "source": [
    "***"
   ]
  },
  {
   "cell_type": "markdown",
   "id": "ec97709a",
   "metadata": {},
   "source": [
    "In this project, we will try to predict if the customer purchase the product or not using various machine learning models and Deploy the model with Tkinter library"
   ]
  },
  {
   "cell_type": "markdown",
   "id": "349fe33f",
   "metadata": {},
   "source": [
    "## Contents"
   ]
  },
  {
   "cell_type": "markdown",
   "id": "07e80d6a",
   "metadata": {},
   "source": [
    "The data represents details about 400 clients of a company including the unique ID, the gender, the age of the customer and the salary. Besides this, we have collected information regarding the buying decision - weather the customer decided to buy specific products or not."
   ]
  },
  {
   "cell_type": "markdown",
   "id": "b99f6f41",
   "metadata": {},
   "source": [
    "## Let's Begin"
   ]
  },
  {
   "cell_type": "markdown",
   "id": "72b62d65",
   "metadata": {},
   "source": [
    "### Import all necessary libraries"
   ]
  },
  {
   "cell_type": "code",
   "execution_count": 63,
   "id": "09929479",
   "metadata": {},
   "outputs": [],
   "source": [
    "import numpy as np \n",
    "import pandas as pd \n",
    "import matplotlib.pyplot as plt \n",
    "import seaborn as sns"
   ]
  },
  {
   "cell_type": "markdown",
   "id": "97ff6348",
   "metadata": {},
   "source": [
    "### Read 'Customer_Behaviour.csv' dataset and store it in a dataframe variable"
   ]
  },
  {
   "cell_type": "code",
   "execution_count": 64,
   "id": "b820bad1",
   "metadata": {},
   "outputs": [],
   "source": [
    "df = pd.read_csv('Customer_Behaviour.csv')"
   ]
  },
  {
   "cell_type": "markdown",
   "id": "518c55c2",
   "metadata": {},
   "source": [
    "### View the top 5 rows"
   ]
  },
  {
   "cell_type": "code",
   "execution_count": 65,
   "id": "1fbca867",
   "metadata": {},
   "outputs": [
    {
     "data": {
      "text/html": [
       "<div>\n",
       "<style scoped>\n",
       "    .dataframe tbody tr th:only-of-type {\n",
       "        vertical-align: middle;\n",
       "    }\n",
       "\n",
       "    .dataframe tbody tr th {\n",
       "        vertical-align: top;\n",
       "    }\n",
       "\n",
       "    .dataframe thead th {\n",
       "        text-align: right;\n",
       "    }\n",
       "</style>\n",
       "<table border=\"1\" class=\"dataframe\">\n",
       "  <thead>\n",
       "    <tr style=\"text-align: right;\">\n",
       "      <th></th>\n",
       "      <th>User ID</th>\n",
       "      <th>Gender</th>\n",
       "      <th>Age</th>\n",
       "      <th>EstimatedSalary</th>\n",
       "      <th>Purchased</th>\n",
       "    </tr>\n",
       "  </thead>\n",
       "  <tbody>\n",
       "    <tr>\n",
       "      <th>0</th>\n",
       "      <td>15624510</td>\n",
       "      <td>Male</td>\n",
       "      <td>19</td>\n",
       "      <td>19000</td>\n",
       "      <td>0</td>\n",
       "    </tr>\n",
       "    <tr>\n",
       "      <th>1</th>\n",
       "      <td>15810944</td>\n",
       "      <td>Male</td>\n",
       "      <td>35</td>\n",
       "      <td>20000</td>\n",
       "      <td>0</td>\n",
       "    </tr>\n",
       "    <tr>\n",
       "      <th>2</th>\n",
       "      <td>15668575</td>\n",
       "      <td>Female</td>\n",
       "      <td>26</td>\n",
       "      <td>43000</td>\n",
       "      <td>0</td>\n",
       "    </tr>\n",
       "    <tr>\n",
       "      <th>3</th>\n",
       "      <td>15603246</td>\n",
       "      <td>Female</td>\n",
       "      <td>27</td>\n",
       "      <td>57000</td>\n",
       "      <td>0</td>\n",
       "    </tr>\n",
       "    <tr>\n",
       "      <th>4</th>\n",
       "      <td>15804002</td>\n",
       "      <td>Male</td>\n",
       "      <td>19</td>\n",
       "      <td>76000</td>\n",
       "      <td>0</td>\n",
       "    </tr>\n",
       "  </tbody>\n",
       "</table>\n",
       "</div>"
      ],
      "text/plain": [
       "    User ID  Gender  Age  EstimatedSalary  Purchased\n",
       "0  15624510    Male   19            19000          0\n",
       "1  15810944    Male   35            20000          0\n",
       "2  15668575  Female   26            43000          0\n",
       "3  15603246  Female   27            57000          0\n",
       "4  15804002    Male   19            76000          0"
      ]
     },
     "execution_count": 65,
     "metadata": {},
     "output_type": "execute_result"
    }
   ],
   "source": [
    "df.head()"
   ]
  },
  {
   "cell_type": "markdown",
   "id": "2b61f9cc",
   "metadata": {},
   "source": [
    "### View info of the dataset"
   ]
  },
  {
   "cell_type": "code",
   "execution_count": 66,
   "id": "0e923032",
   "metadata": {},
   "outputs": [
    {
     "name": "stdout",
     "output_type": "stream",
     "text": [
      "<class 'pandas.core.frame.DataFrame'>\n",
      "RangeIndex: 400 entries, 0 to 399\n",
      "Data columns (total 5 columns):\n",
      " #   Column           Non-Null Count  Dtype \n",
      "---  ------           --------------  ----- \n",
      " 0   User ID          400 non-null    int64 \n",
      " 1   Gender           400 non-null    object\n",
      " 2   Age              400 non-null    int64 \n",
      " 3   EstimatedSalary  400 non-null    int64 \n",
      " 4   Purchased        400 non-null    int64 \n",
      "dtypes: int64(4), object(1)\n",
      "memory usage: 15.8+ KB\n"
     ]
    }
   ],
   "source": [
    "df.info()"
   ]
  },
  {
   "cell_type": "markdown",
   "id": "03f9aad2",
   "metadata": {},
   "source": [
    "### View basic statistical information about the dataset"
   ]
  },
  {
   "cell_type": "code",
   "execution_count": 67,
   "id": "3782a140",
   "metadata": {
    "scrolled": true
   },
   "outputs": [
    {
     "data": {
      "text/html": [
       "<div>\n",
       "<style scoped>\n",
       "    .dataframe tbody tr th:only-of-type {\n",
       "        vertical-align: middle;\n",
       "    }\n",
       "\n",
       "    .dataframe tbody tr th {\n",
       "        vertical-align: top;\n",
       "    }\n",
       "\n",
       "    .dataframe thead th {\n",
       "        text-align: right;\n",
       "    }\n",
       "</style>\n",
       "<table border=\"1\" class=\"dataframe\">\n",
       "  <thead>\n",
       "    <tr style=\"text-align: right;\">\n",
       "      <th></th>\n",
       "      <th>User ID</th>\n",
       "      <th>Age</th>\n",
       "      <th>EstimatedSalary</th>\n",
       "      <th>Purchased</th>\n",
       "    </tr>\n",
       "  </thead>\n",
       "  <tbody>\n",
       "    <tr>\n",
       "      <th>count</th>\n",
       "      <td>4.000000e+02</td>\n",
       "      <td>400.000000</td>\n",
       "      <td>400.000000</td>\n",
       "      <td>400.000000</td>\n",
       "    </tr>\n",
       "    <tr>\n",
       "      <th>mean</th>\n",
       "      <td>1.569154e+07</td>\n",
       "      <td>37.655000</td>\n",
       "      <td>69742.500000</td>\n",
       "      <td>0.357500</td>\n",
       "    </tr>\n",
       "    <tr>\n",
       "      <th>std</th>\n",
       "      <td>7.165832e+04</td>\n",
       "      <td>10.482877</td>\n",
       "      <td>34096.960282</td>\n",
       "      <td>0.479864</td>\n",
       "    </tr>\n",
       "    <tr>\n",
       "      <th>min</th>\n",
       "      <td>1.556669e+07</td>\n",
       "      <td>18.000000</td>\n",
       "      <td>15000.000000</td>\n",
       "      <td>0.000000</td>\n",
       "    </tr>\n",
       "    <tr>\n",
       "      <th>25%</th>\n",
       "      <td>1.562676e+07</td>\n",
       "      <td>29.750000</td>\n",
       "      <td>43000.000000</td>\n",
       "      <td>0.000000</td>\n",
       "    </tr>\n",
       "    <tr>\n",
       "      <th>50%</th>\n",
       "      <td>1.569434e+07</td>\n",
       "      <td>37.000000</td>\n",
       "      <td>70000.000000</td>\n",
       "      <td>0.000000</td>\n",
       "    </tr>\n",
       "    <tr>\n",
       "      <th>75%</th>\n",
       "      <td>1.575036e+07</td>\n",
       "      <td>46.000000</td>\n",
       "      <td>88000.000000</td>\n",
       "      <td>1.000000</td>\n",
       "    </tr>\n",
       "    <tr>\n",
       "      <th>max</th>\n",
       "      <td>1.581524e+07</td>\n",
       "      <td>60.000000</td>\n",
       "      <td>150000.000000</td>\n",
       "      <td>1.000000</td>\n",
       "    </tr>\n",
       "  </tbody>\n",
       "</table>\n",
       "</div>"
      ],
      "text/plain": [
       "            User ID         Age  EstimatedSalary   Purchased\n",
       "count  4.000000e+02  400.000000       400.000000  400.000000\n",
       "mean   1.569154e+07   37.655000     69742.500000    0.357500\n",
       "std    7.165832e+04   10.482877     34096.960282    0.479864\n",
       "min    1.556669e+07   18.000000     15000.000000    0.000000\n",
       "25%    1.562676e+07   29.750000     43000.000000    0.000000\n",
       "50%    1.569434e+07   37.000000     70000.000000    0.000000\n",
       "75%    1.575036e+07   46.000000     88000.000000    1.000000\n",
       "max    1.581524e+07   60.000000    150000.000000    1.000000"
      ]
     },
     "execution_count": 67,
     "metadata": {},
     "output_type": "execute_result"
    }
   ],
   "source": [
    "df.describe()"
   ]
  },
  {
   "cell_type": "markdown",
   "id": "71b95b20",
   "metadata": {},
   "source": [
    "### Check for any null values"
   ]
  },
  {
   "cell_type": "code",
   "execution_count": 68,
   "id": "791c1ba5",
   "metadata": {},
   "outputs": [
    {
     "data": {
      "text/plain": [
       "User ID            0\n",
       "Gender             0\n",
       "Age                0\n",
       "EstimatedSalary    0\n",
       "Purchased          0\n",
       "dtype: int64"
      ]
     },
     "execution_count": 68,
     "metadata": {},
     "output_type": "execute_result"
    }
   ],
   "source": [
    "df.isna().sum()"
   ]
  },
  {
   "cell_type": "markdown",
   "id": "0fe7e3c6",
   "metadata": {},
   "source": [
    "### View unique values in Gender"
   ]
  },
  {
   "cell_type": "code",
   "execution_count": 69,
   "id": "f1cd44df",
   "metadata": {},
   "outputs": [
    {
     "data": {
      "text/plain": [
       "Index(['User ID', 'Gender', 'Age', 'EstimatedSalary', 'Purchased'], dtype='object')"
      ]
     },
     "execution_count": 69,
     "metadata": {},
     "output_type": "execute_result"
    }
   ],
   "source": [
    "df.columns"
   ]
  },
  {
   "cell_type": "code",
   "execution_count": 70,
   "id": "edae5097-e853-4724-8044-c0ca5d46a143",
   "metadata": {},
   "outputs": [
    {
     "name": "stdout",
     "output_type": "stream",
     "text": [
      "The unique values in: ['Male' 'Female']\n"
     ]
    }
   ],
   "source": [
    "columns=['Gender']\n",
    "for i in columns:\n",
    "    print('The unique values in:',df[i].unique())"
   ]
  },
  {
   "cell_type": "markdown",
   "id": "e956aece",
   "metadata": {},
   "source": [
    "### Convert male to 0 and Female to 1 in Gender column"
   ]
  },
  {
   "cell_type": "code",
   "execution_count": 71,
   "id": "a38133e1",
   "metadata": {},
   "outputs": [],
   "source": [
    "df['Gender']=df['Gender'].map({'Male':0,'Female':1})"
   ]
  },
  {
   "cell_type": "code",
   "execution_count": 72,
   "id": "1871a461",
   "metadata": {},
   "outputs": [
    {
     "data": {
      "text/html": [
       "<div>\n",
       "<style scoped>\n",
       "    .dataframe tbody tr th:only-of-type {\n",
       "        vertical-align: middle;\n",
       "    }\n",
       "\n",
       "    .dataframe tbody tr th {\n",
       "        vertical-align: top;\n",
       "    }\n",
       "\n",
       "    .dataframe thead th {\n",
       "        text-align: right;\n",
       "    }\n",
       "</style>\n",
       "<table border=\"1\" class=\"dataframe\">\n",
       "  <thead>\n",
       "    <tr style=\"text-align: right;\">\n",
       "      <th></th>\n",
       "      <th>User ID</th>\n",
       "      <th>Gender</th>\n",
       "      <th>Age</th>\n",
       "      <th>EstimatedSalary</th>\n",
       "      <th>Purchased</th>\n",
       "    </tr>\n",
       "  </thead>\n",
       "  <tbody>\n",
       "    <tr>\n",
       "      <th>0</th>\n",
       "      <td>15624510</td>\n",
       "      <td>0</td>\n",
       "      <td>19</td>\n",
       "      <td>19000</td>\n",
       "      <td>0</td>\n",
       "    </tr>\n",
       "    <tr>\n",
       "      <th>1</th>\n",
       "      <td>15810944</td>\n",
       "      <td>0</td>\n",
       "      <td>35</td>\n",
       "      <td>20000</td>\n",
       "      <td>0</td>\n",
       "    </tr>\n",
       "    <tr>\n",
       "      <th>2</th>\n",
       "      <td>15668575</td>\n",
       "      <td>1</td>\n",
       "      <td>26</td>\n",
       "      <td>43000</td>\n",
       "      <td>0</td>\n",
       "    </tr>\n",
       "    <tr>\n",
       "      <th>3</th>\n",
       "      <td>15603246</td>\n",
       "      <td>1</td>\n",
       "      <td>27</td>\n",
       "      <td>57000</td>\n",
       "      <td>0</td>\n",
       "    </tr>\n",
       "    <tr>\n",
       "      <th>4</th>\n",
       "      <td>15804002</td>\n",
       "      <td>0</td>\n",
       "      <td>19</td>\n",
       "      <td>76000</td>\n",
       "      <td>0</td>\n",
       "    </tr>\n",
       "  </tbody>\n",
       "</table>\n",
       "</div>"
      ],
      "text/plain": [
       "    User ID  Gender  Age  EstimatedSalary  Purchased\n",
       "0  15624510       0   19            19000          0\n",
       "1  15810944       0   35            20000          0\n",
       "2  15668575       1   26            43000          0\n",
       "3  15603246       1   27            57000          0\n",
       "4  15804002       0   19            76000          0"
      ]
     },
     "execution_count": 72,
     "metadata": {},
     "output_type": "execute_result"
    }
   ],
   "source": [
    "df.head()"
   ]
  },
  {
   "cell_type": "markdown",
   "id": "14fb7be3",
   "metadata": {},
   "source": [
    "#### Drop user ID column"
   ]
  },
  {
   "cell_type": "code",
   "execution_count": 73,
   "id": "bb708b40",
   "metadata": {},
   "outputs": [
    {
     "data": {
      "text/html": [
       "<div>\n",
       "<style scoped>\n",
       "    .dataframe tbody tr th:only-of-type {\n",
       "        vertical-align: middle;\n",
       "    }\n",
       "\n",
       "    .dataframe tbody tr th {\n",
       "        vertical-align: top;\n",
       "    }\n",
       "\n",
       "    .dataframe thead th {\n",
       "        text-align: right;\n",
       "    }\n",
       "</style>\n",
       "<table border=\"1\" class=\"dataframe\">\n",
       "  <thead>\n",
       "    <tr style=\"text-align: right;\">\n",
       "      <th></th>\n",
       "      <th>Gender</th>\n",
       "      <th>Age</th>\n",
       "      <th>EstimatedSalary</th>\n",
       "      <th>Purchased</th>\n",
       "    </tr>\n",
       "  </thead>\n",
       "  <tbody>\n",
       "    <tr>\n",
       "      <th>0</th>\n",
       "      <td>0</td>\n",
       "      <td>19</td>\n",
       "      <td>19000</td>\n",
       "      <td>0</td>\n",
       "    </tr>\n",
       "    <tr>\n",
       "      <th>1</th>\n",
       "      <td>0</td>\n",
       "      <td>35</td>\n",
       "      <td>20000</td>\n",
       "      <td>0</td>\n",
       "    </tr>\n",
       "    <tr>\n",
       "      <th>2</th>\n",
       "      <td>1</td>\n",
       "      <td>26</td>\n",
       "      <td>43000</td>\n",
       "      <td>0</td>\n",
       "    </tr>\n",
       "    <tr>\n",
       "      <th>3</th>\n",
       "      <td>1</td>\n",
       "      <td>27</td>\n",
       "      <td>57000</td>\n",
       "      <td>0</td>\n",
       "    </tr>\n",
       "    <tr>\n",
       "      <th>4</th>\n",
       "      <td>0</td>\n",
       "      <td>19</td>\n",
       "      <td>76000</td>\n",
       "      <td>0</td>\n",
       "    </tr>\n",
       "  </tbody>\n",
       "</table>\n",
       "</div>"
      ],
      "text/plain": [
       "   Gender  Age  EstimatedSalary  Purchased\n",
       "0       0   19            19000          0\n",
       "1       0   35            20000          0\n",
       "2       1   26            43000          0\n",
       "3       1   27            57000          0\n",
       "4       0   19            76000          0"
      ]
     },
     "execution_count": 73,
     "metadata": {},
     "output_type": "execute_result"
    }
   ],
   "source": [
    "df.drop(columns=['User ID'],inplace=True )\n",
    "df.head()"
   ]
  },
  {
   "cell_type": "markdown",
   "id": "74c0f8ec",
   "metadata": {},
   "source": [
    "## <span style = \"color: orange\"> Data Visualization </span>"
   ]
  },
  {
   "cell_type": "markdown",
   "id": "ceb2fa08",
   "metadata": {},
   "source": [
    "### Plot heatmap to view the correlation between features"
   ]
  },
  {
   "cell_type": "code",
   "execution_count": 74,
   "id": "839618a9",
   "metadata": {},
   "outputs": [
    {
     "data": {
      "text/plain": [
       "[]"
      ]
     },
     "execution_count": 74,
     "metadata": {},
     "output_type": "execute_result"
    },
    {
     "data": {
      "image/png": "[encoded data removed]",
      "text/plain": [
       "<Figure size 1000x800 with 2 Axes>"
      ]
     },
     "metadata": {},
     "output_type": "display_data"
    }
   ],
   "source": [
    "plt.figure(figsize = (10,8))\n",
    "sns.heatmap(df.corr(), annot = True)\n",
    "plt.plot()"
   ]
  },
  {
   "cell_type": "markdown",
   "id": "20a7836e",
   "metadata": {},
   "source": [
    "### Plot a countplot of gender with respect to purchased"
   ]
  },
  {
   "cell_type": "code",
   "execution_count": 75,
   "id": "c4150390-566d-4a40-82ff-a9f5c4893bb4",
   "metadata": {},
   "outputs": [
    {
     "data": {
      "text/plain": [
       "str"
      ]
     },
     "execution_count": 75,
     "metadata": {},
     "output_type": "execute_result"
    }
   ],
   "source": [
    "type('Purchased')"
   ]
  },
  {
   "cell_type": "code",
   "execution_count": 76,
   "id": "ef273629",
   "metadata": {},
   "outputs": [
    {
     "data": {
      "text/plain": [
       "<function matplotlib.pyplot.show(close=None, block=None)>"
      ]
     },
     "execution_count": 76,
     "metadata": {},
     "output_type": "execute_result"
    },
    {
     "data": {
      "image/png": "[encoded data removed]",
      "text/plain": [
       "<Figure size 640x480 with 1 Axes>"
      ]
     },
     "metadata": {},
     "output_type": "display_data"
    }
   ],
   "source": [
    "df['Gender'] = df['Gender'].astype(int)\n",
    "df['Purchased'] = df['Purchased'].astype(int)\n",
    "sns.countplot(x='Gender',data=df)\n",
    "plt.show"
   ]
  },
  {
   "cell_type": "markdown",
   "id": "8cccfbb3",
   "metadata": {},
   "source": [
    "### Plot a displot of Age"
   ]
  },
  {
   "cell_type": "code",
   "execution_count": 77,
   "id": "0080bc76",
   "metadata": {
    "scrolled": true
   },
   "outputs": [
    {
     "name": "stderr",
     "output_type": "stream",
     "text": [
      "C:\\Users\\Pakistan\\anaconda3\\Lib\\site-packages\\seaborn\\_oldcore.py:1119: FutureWarning: use_inf_as_na option is deprecated and will be removed in a future version. Convert inf values to NaN before operating instead.\n",
      "  with pd.option_context('mode.use_inf_as_na', True):\n"
     ]
    },
    {
     "data": {
      "text/plain": [
       "<seaborn.axisgrid.FacetGrid at 0x1c054fd1810>"
      ]
     },
     "execution_count": 77,
     "metadata": {},
     "output_type": "execute_result"
    },
    {
     "data": {
      "image/png": "[encoded data removed]",
      "text/plain": [
       "<Figure size 500x500 with 1 Axes>"
      ]
     },
     "metadata": {},
     "output_type": "display_data"
    }
   ],
   "source": [
    "sns.displot(x='Age',data=df)"
   ]
  },
  {
   "cell_type": "markdown",
   "id": "e1a9a253",
   "metadata": {},
   "source": [
    "### Plot pairplot of the dataset"
   ]
  },
  {
   "cell_type": "code",
   "execution_count": 78,
   "id": "3d7c754e-a27a-4ddf-85e9-83c03a0f8e40",
   "metadata": {},
   "outputs": [
    {
     "data": {
      "text/html": [
       "<div>\n",
       "<style scoped>\n",
       "    .dataframe tbody tr th:only-of-type {\n",
       "        vertical-align: middle;\n",
       "    }\n",
       "\n",
       "    .dataframe tbody tr th {\n",
       "        vertical-align: top;\n",
       "    }\n",
       "\n",
       "    .dataframe thead th {\n",
       "        text-align: right;\n",
       "    }\n",
       "</style>\n",
       "<table border=\"1\" class=\"dataframe\">\n",
       "  <thead>\n",
       "    <tr style=\"text-align: right;\">\n",
       "      <th></th>\n",
       "      <th>Gender</th>\n",
       "      <th>Age</th>\n",
       "      <th>EstimatedSalary</th>\n",
       "      <th>Purchased</th>\n",
       "    </tr>\n",
       "  </thead>\n",
       "  <tbody>\n",
       "    <tr>\n",
       "      <th>0</th>\n",
       "      <td>0</td>\n",
       "      <td>19</td>\n",
       "      <td>19000</td>\n",
       "      <td>0</td>\n",
       "    </tr>\n",
       "    <tr>\n",
       "      <th>1</th>\n",
       "      <td>0</td>\n",
       "      <td>35</td>\n",
       "      <td>20000</td>\n",
       "      <td>0</td>\n",
       "    </tr>\n",
       "    <tr>\n",
       "      <th>2</th>\n",
       "      <td>1</td>\n",
       "      <td>26</td>\n",
       "      <td>43000</td>\n",
       "      <td>0</td>\n",
       "    </tr>\n",
       "    <tr>\n",
       "      <th>3</th>\n",
       "      <td>1</td>\n",
       "      <td>27</td>\n",
       "      <td>57000</td>\n",
       "      <td>0</td>\n",
       "    </tr>\n",
       "    <tr>\n",
       "      <th>4</th>\n",
       "      <td>0</td>\n",
       "      <td>19</td>\n",
       "      <td>76000</td>\n",
       "      <td>0</td>\n",
       "    </tr>\n",
       "    <tr>\n",
       "      <th>...</th>\n",
       "      <td>...</td>\n",
       "      <td>...</td>\n",
       "      <td>...</td>\n",
       "      <td>...</td>\n",
       "    </tr>\n",
       "    <tr>\n",
       "      <th>395</th>\n",
       "      <td>1</td>\n",
       "      <td>46</td>\n",
       "      <td>41000</td>\n",
       "      <td>1</td>\n",
       "    </tr>\n",
       "    <tr>\n",
       "      <th>396</th>\n",
       "      <td>0</td>\n",
       "      <td>51</td>\n",
       "      <td>23000</td>\n",
       "      <td>1</td>\n",
       "    </tr>\n",
       "    <tr>\n",
       "      <th>397</th>\n",
       "      <td>1</td>\n",
       "      <td>50</td>\n",
       "      <td>20000</td>\n",
       "      <td>1</td>\n",
       "    </tr>\n",
       "    <tr>\n",
       "      <th>398</th>\n",
       "      <td>0</td>\n",
       "      <td>36</td>\n",
       "      <td>33000</td>\n",
       "      <td>0</td>\n",
       "    </tr>\n",
       "    <tr>\n",
       "      <th>399</th>\n",
       "      <td>1</td>\n",
       "      <td>49</td>\n",
       "      <td>36000</td>\n",
       "      <td>1</td>\n",
       "    </tr>\n",
       "  </tbody>\n",
       "</table>\n",
       "<p>400 rows × 4 columns</p>\n",
       "</div>"
      ],
      "text/plain": [
       "     Gender  Age  EstimatedSalary  Purchased\n",
       "0         0   19            19000          0\n",
       "1         0   35            20000          0\n",
       "2         1   26            43000          0\n",
       "3         1   27            57000          0\n",
       "4         0   19            76000          0\n",
       "..      ...  ...              ...        ...\n",
       "395       1   46            41000          1\n",
       "396       0   51            23000          1\n",
       "397       1   50            20000          1\n",
       "398       0   36            33000          0\n",
       "399       1   49            36000          1\n",
       "\n",
       "[400 rows x 4 columns]"
      ]
     },
     "execution_count": 78,
     "metadata": {},
     "output_type": "execute_result"
    }
   ],
   "source": [
    "df"
   ]
  },
  {
   "cell_type": "code",
   "execution_count": 79,
   "id": "c42f007d",
   "metadata": {},
   "outputs": [
    {
     "name": "stderr",
     "output_type": "stream",
     "text": [
      "C:\\Users\\Pakistan\\anaconda3\\Lib\\site-packages\\seaborn\\_oldcore.py:1119: FutureWarning: use_inf_as_na option is deprecated and will be removed in a future version. Convert inf values to NaN before operating instead.\n",
      "  with pd.option_context('mode.use_inf_as_na', True):\n",
      "C:\\Users\\Pakistan\\anaconda3\\Lib\\site-packages\\seaborn\\_oldcore.py:1119: FutureWarning: use_inf_as_na option is deprecated and will be removed in a future version. Convert inf values to NaN before operating instead.\n",
      "  with pd.option_context('mode.use_inf_as_na', True):\n",
      "C:\\Users\\Pakistan\\anaconda3\\Lib\\site-packages\\seaborn\\_oldcore.py:1119: FutureWarning: use_inf_as_na option is deprecated and will be removed in a future version. Convert inf values to NaN before operating instead.\n",
      "  with pd.option_context('mode.use_inf_as_na', True):\n",
      "C:\\Users\\Pakistan\\anaconda3\\Lib\\site-packages\\seaborn\\_oldcore.py:1119: FutureWarning: use_inf_as_na option is deprecated and will be removed in a future version. Convert inf values to NaN before operating instead.\n",
      "  with pd.option_context('mode.use_inf_as_na', True):\n"
     ]
    },
    {
     "data": {
      "text/plain": [
       "<seaborn.axisgrid.PairGrid at 0x1c054b70ed0>"
      ]
     },
     "execution_count": 79,
     "metadata": {},
     "output_type": "execute_result"
    },
    {
     "data": {
      "image/png": "[encoded data removed]",
      "text/plain": [
       "<Figure size 1000x1000 with 20 Axes>"
      ]
     },
     "metadata": {},
     "output_type": "display_data"
    }
   ],
   "source": [
    "sns.pairplot(df)"
   ]
  },
  {
   "cell_type": "markdown",
   "id": "0ddce0b9",
   "metadata": {},
   "source": [
    "## Data Preprocessing"
   ]
  },
  {
   "cell_type": "markdown",
   "id": "4f425dfd",
   "metadata": {},
   "source": [
    "### Split the dataset into input and target variables"
   ]
  },
  {
   "cell_type": "code",
   "execution_count": 80,
   "id": "3e5c3be4-64a2-4d76-b5d8-e9ddf960fb69",
   "metadata": {},
   "outputs": [
    {
     "data": {
      "text/plain": [
       "Index(['Gender', 'Age', 'EstimatedSalary', 'Purchased'], dtype='object')"
      ]
     },
     "execution_count": 80,
     "metadata": {},
     "output_type": "execute_result"
    }
   ],
   "source": [
    "df.columns"
   ]
  },
  {
   "cell_type": "code",
   "execution_count": 81,
   "id": "b39ebfdc-a196-4565-9d20-ea69c4473e58",
   "metadata": {},
   "outputs": [],
   "source": [
    "X=df.drop(columns=['Purchased'],axis=1)\n",
    "y=df['Purchased']"
   ]
  },
  {
   "cell_type": "code",
   "execution_count": 82,
   "id": "a613dc68-b886-4886-bbdc-84db27fa752c",
   "metadata": {},
   "outputs": [
    {
     "data": {
      "text/html": [
       "<div>\n",
       "<style scoped>\n",
       "    .dataframe tbody tr th:only-of-type {\n",
       "        vertical-align: middle;\n",
       "    }\n",
       "\n",
       "    .dataframe tbody tr th {\n",
       "        vertical-align: top;\n",
       "    }\n",
       "\n",
       "    .dataframe thead th {\n",
       "        text-align: right;\n",
       "    }\n",
       "</style>\n",
       "<table border=\"1\" class=\"dataframe\">\n",
       "  <thead>\n",
       "    <tr style=\"text-align: right;\">\n",
       "      <th></th>\n",
       "      <th>Gender</th>\n",
       "      <th>Age</th>\n",
       "      <th>EstimatedSalary</th>\n",
       "    </tr>\n",
       "  </thead>\n",
       "  <tbody>\n",
       "    <tr>\n",
       "      <th>0</th>\n",
       "      <td>0</td>\n",
       "      <td>19</td>\n",
       "      <td>19000</td>\n",
       "    </tr>\n",
       "    <tr>\n",
       "      <th>1</th>\n",
       "      <td>0</td>\n",
       "      <td>35</td>\n",
       "      <td>20000</td>\n",
       "    </tr>\n",
       "    <tr>\n",
       "      <th>2</th>\n",
       "      <td>1</td>\n",
       "      <td>26</td>\n",
       "      <td>43000</td>\n",
       "    </tr>\n",
       "    <tr>\n",
       "      <th>3</th>\n",
       "      <td>1</td>\n",
       "      <td>27</td>\n",
       "      <td>57000</td>\n",
       "    </tr>\n",
       "    <tr>\n",
       "      <th>4</th>\n",
       "      <td>0</td>\n",
       "      <td>19</td>\n",
       "      <td>76000</td>\n",
       "    </tr>\n",
       "  </tbody>\n",
       "</table>\n",
       "</div>"
      ],
      "text/plain": [
       "   Gender  Age  EstimatedSalary\n",
       "0       0   19            19000\n",
       "1       0   35            20000\n",
       "2       1   26            43000\n",
       "3       1   27            57000\n",
       "4       0   19            76000"
      ]
     },
     "execution_count": 82,
     "metadata": {},
     "output_type": "execute_result"
    }
   ],
   "source": [
    "X.head()"
   ]
  },
  {
   "cell_type": "markdown",
   "id": "1ccda904",
   "metadata": {},
   "source": [
    "### Scale the data using StandardScaler"
   ]
  },
  {
   "cell_type": "code",
   "execution_count": 83,
   "id": "f85edd67",
   "metadata": {},
   "outputs": [],
   "source": [
    "from sklearn.preprocessing import StandardScaler"
   ]
  },
  {
   "cell_type": "raw",
   "id": "8f3c962d-4f65-49b6-bf9b-633cce7b5a8d",
   "metadata": {},
   "source": [
    "ss = StandardScaler()\n",
    "X = pd.DataFrame(ss.fit_transform(X),columns=ss.get_feature_names_out())"
   ]
  },
  {
   "cell_type": "raw",
   "id": "617d7d67-fc67-48d7-a76a-a687637d1c07",
   "metadata": {},
   "source": [
    "X.head()"
   ]
  },
  {
   "cell_type": "markdown",
   "id": "542ab461",
   "metadata": {},
   "source": [
    "### Split the dataset into training and testing set"
   ]
  },
  {
   "cell_type": "code",
   "execution_count": 84,
   "id": "b13db95e",
   "metadata": {},
   "outputs": [],
   "source": [
    "from sklearn.model_selection import train_test_split"
   ]
  },
  {
   "cell_type": "code",
   "execution_count": 85,
   "id": "a39c90e2-5c82-4297-a224-a2586d402334",
   "metadata": {},
   "outputs": [],
   "source": [
    "X_train, X_test, y_train, y_test = train_test_split(X,y,test_size=.3,random_state=42)"
   ]
  },
  {
   "cell_type": "markdown",
   "id": "c11376b6",
   "metadata": {},
   "source": [
    "### Check shape of X_train and X_test"
   ]
  },
  {
   "cell_type": "code",
   "execution_count": 86,
   "id": "17e79be0",
   "metadata": {},
   "outputs": [
    {
     "data": {
      "text/plain": [
       "(280, 3)"
      ]
     },
     "execution_count": 86,
     "metadata": {},
     "output_type": "execute_result"
    }
   ],
   "source": [
    "X_train.shape"
   ]
  },
  {
   "cell_type": "code",
   "execution_count": 87,
   "id": "09afe973",
   "metadata": {},
   "outputs": [
    {
     "data": {
      "text/plain": [
       "(120, 3)"
      ]
     },
     "execution_count": 87,
     "metadata": {},
     "output_type": "execute_result"
    }
   ],
   "source": [
    "X_test.shape"
   ]
  },
  {
   "cell_type": "markdown",
   "id": "ba800355",
   "metadata": {},
   "source": [
    "## ML Models"
   ]
  },
  {
   "cell_type": "markdown",
   "id": "0ac5cffd",
   "metadata": {},
   "source": [
    "### Logistic Regression Classifier"
   ]
  },
  {
   "cell_type": "code",
   "execution_count": 88,
   "id": "841bb6a9",
   "metadata": {},
   "outputs": [],
   "source": [
    "from sklearn.linear_model import LogisticRegression\n",
    "from  sklearn import metrics\n",
    "from sklearn.model_selection import cross_val_score"
   ]
  },
  {
   "cell_type": "code",
   "execution_count": 89,
   "id": "f8f36e26-91f2-4baa-91d1-1c326f9fd30b",
   "metadata": {},
   "outputs": [],
   "source": [
    "model = LogisticRegression()"
   ]
  },
  {
   "cell_type": "code",
   "execution_count": 90,
   "id": "c93c59a6",
   "metadata": {},
   "outputs": [],
   "source": [
    "cv_score_list = {}\n",
    "def model_score(model):\n",
    "    model.fit(X_train,y_train)\n",
    "    print('The score of our trained model is :',model.score(X_train,y_train),end='\\n\\n')\n",
    "    print('#'*100)\n",
    "    y_pred = model.predict(X_test)\n",
    "    print('The accuracy score of the model :',metrics.accuracy_score(y_test,y_pred),end='\\n\\n')\n",
    "    print('#'*100)\n",
    "    print('confusion metrics')\n",
    "    print(metrics.confusion_matrix(y_test,y_pred),end='\\n\\n')\n",
    "    print('#'*100,end='\\n\\n')\n",
    "    print(metrics.classification_report(y_test,y_pred))\n",
    "    print('#'*100,end='\\n\\n')\n",
    "    cv_score = np.mean(cross_val_score(model,X_train,y_train))\n",
    "    print('Cross validation Score Mean :',cv_score)\n",
    "    cv_score_list[str(model)[:-2]] = cv_score\n",
    "    "
   ]
  },
  {
   "cell_type": "code",
   "execution_count": 91,
   "id": "9fa9a522-2aad-49cb-820a-8e7264439c84",
   "metadata": {},
   "outputs": [
    {
     "name": "stdout",
     "output_type": "stream",
     "text": [
      "The score of our trained model is : 0.6571428571428571\n",
      "\n",
      "####################################################################################################\n",
      "The accuracy score of the model : 0.6083333333333333\n",
      "\n",
      "####################################################################################################\n",
      "confusion metrics\n",
      "[[73  0]\n",
      " [47  0]]\n",
      "\n",
      "####################################################################################################\n",
      "\n",
      "              precision    recall  f1-score   support\n",
      "\n",
      "           0       0.61      1.00      0.76        73\n",
      "           1       0.00      0.00      0.00        47\n",
      "\n",
      "    accuracy                           0.61       120\n",
      "   macro avg       0.30      0.50      0.38       120\n",
      "weighted avg       0.37      0.61      0.46       120\n",
      "\n",
      "####################################################################################################\n",
      "\n",
      "Cross validation Score Mean : 0.6571428571428571\n"
     ]
    },
    {
     "name": "stderr",
     "output_type": "stream",
     "text": [
      "C:\\Users\\Pakistan\\anaconda3\\Lib\\site-packages\\sklearn\\metrics\\_classification.py:1344: UndefinedMetricWarning: Precision and F-score are ill-defined and being set to 0.0 in labels with no predicted samples. Use `zero_division` parameter to control this behavior.\n",
      "  _warn_prf(average, modifier, msg_start, len(result))\n",
      "C:\\Users\\Pakistan\\anaconda3\\Lib\\site-packages\\sklearn\\metrics\\_classification.py:1344: UndefinedMetricWarning: Precision and F-score are ill-defined and being set to 0.0 in labels with no predicted samples. Use `zero_division` parameter to control this behavior.\n",
      "  _warn_prf(average, modifier, msg_start, len(result))\n",
      "C:\\Users\\Pakistan\\anaconda3\\Lib\\site-packages\\sklearn\\metrics\\_classification.py:1344: UndefinedMetricWarning: Precision and F-score are ill-defined and being set to 0.0 in labels with no predicted samples. Use `zero_division` parameter to control this behavior.\n",
      "  _warn_prf(average, modifier, msg_start, len(result))\n"
     ]
    }
   ],
   "source": [
    "model_score(LogisticRegression())"
   ]
  },
  {
   "cell_type": "markdown",
   "id": "3b748450",
   "metadata": {},
   "source": [
    "### Random Forest Classifier"
   ]
  },
  {
   "cell_type": "code",
   "execution_count": 92,
   "id": "5506eb16",
   "metadata": {},
   "outputs": [],
   "source": [
    "from sklearn.ensemble import RandomForestClassifier"
   ]
  },
  {
   "cell_type": "code",
   "execution_count": 93,
   "id": "cf8a4cc6-8c5d-41b0-806d-9dfde8b235be",
   "metadata": {},
   "outputs": [],
   "source": [
    "rd = RandomForestClassifier()"
   ]
  },
  {
   "cell_type": "code",
   "execution_count": 94,
   "id": "f92a04a6",
   "metadata": {},
   "outputs": [
    {
     "data": {
      "text/html": [
       "<style>#sk-container-id-1 {color: black;background-color: white;}#sk-container-id-1 pre{padding: 0;}#sk-container-id-1 div.sk-toggleable {background-color: white;}#sk-container-id-1 label.sk-toggleable__label {cursor: pointer;display: block;width: 100%;margin-bottom: 0;padding: 0.3em;box-sizing: border-box;text-align: center;}#sk-container-id-1 label.sk-toggleable__label-arrow:before {content: \"▸\";float: left;margin-right: 0.25em;color: #696969;}#sk-container-id-1 label.sk-toggleable__label-arrow:hover:before {color: black;}#sk-container-id-1 div.sk-estimator:hover label.sk-toggleable__label-arrow:before {color: black;}#sk-container-id-1 div.sk-toggleable__content {max-height: 0;max-width: 0;overflow: hidden;text-align: left;background-color: #f0f8ff;}#sk-container-id-1 div.sk-toggleable__content pre {margin: 0.2em;color: black;border-radius: 0.25em;background-color: #f0f8ff;}#sk-container-id-1 input.sk-toggleable__control:checked~div.sk-toggleable__content {max-height: 200px;max-width: 100%;overflow: auto;}#sk-container-id-1 input.sk-toggleable__control:checked~label.sk-toggleable__label-arrow:before {content: \"▾\";}#sk-container-id-1 div.sk-estimator input.sk-toggleable__control:checked~label.sk-toggleable__label {background-color: #d4ebff;}#sk-container-id-1 div.sk-label input.sk-toggleable__control:checked~label.sk-toggleable__label {background-color: #d4ebff;}#sk-container-id-1 input.sk-hidden--visually {border: 0;clip: rect(1px 1px 1px 1px);clip: rect(1px, 1px, 1px, 1px);height: 1px;margin: -1px;overflow: hidden;padding: 0;position: absolute;width: 1px;}#sk-container-id-1 div.sk-estimator {font-family: monospace;background-color: #f0f8ff;border: 1px dotted black;border-radius: 0.25em;box-sizing: border-box;margin-bottom: 0.5em;}#sk-container-id-1 div.sk-estimator:hover {background-color: #d4ebff;}#sk-container-id-1 div.sk-parallel-item::after {content: \"\";width: 100%;border-bottom: 1px solid gray;flex-grow: 1;}#sk-container-id-1 div.sk-label:hover label.sk-toggleable__label {background-color: #d4ebff;}#sk-container-id-1 div.sk-serial::before {content: \"\";position: absolute;border-left: 1px solid gray;box-sizing: border-box;top: 0;bottom: 0;left: 50%;z-index: 0;}#sk-container-id-1 div.sk-serial {display: flex;flex-direction: column;align-items: center;background-color: white;padding-right: 0.2em;padding-left: 0.2em;position: relative;}#sk-container-id-1 div.sk-item {position: relative;z-index: 1;}#sk-container-id-1 div.sk-parallel {display: flex;align-items: stretch;justify-content: center;background-color: white;position: relative;}#sk-container-id-1 div.sk-item::before, #sk-container-id-1 div.sk-parallel-item::before {content: \"\";position: absolute;border-left: 1px solid gray;box-sizing: border-box;top: 0;bottom: 0;left: 50%;z-index: -1;}#sk-container-id-1 div.sk-parallel-item {display: flex;flex-direction: column;z-index: 1;position: relative;background-color: white;}#sk-container-id-1 div.sk-parallel-item:first-child::after {align-self: flex-end;width: 50%;}#sk-container-id-1 div.sk-parallel-item:last-child::after {align-self: flex-start;width: 50%;}#sk-container-id-1 div.sk-parallel-item:only-child::after {width: 0;}#sk-container-id-1 div.sk-dashed-wrapped {border: 1px dashed gray;margin: 0 0.4em 0.5em 0.4em;box-sizing: border-box;padding-bottom: 0.4em;background-color: white;}#sk-container-id-1 div.sk-label label {font-family: monospace;font-weight: bold;display: inline-block;line-height: 1.2em;}#sk-container-id-1 div.sk-label-container {text-align: center;}#sk-container-id-1 div.sk-container {/* jupyter's `normalize.less` sets `[hidden] { display: none; }` but bootstrap.min.css set `[hidden] { display: none !important; }` so we also need the `!important` here to be able to override the default hidden behavior on the sphinx rendered scikit-learn.org. See: https://github.com/scikit-learn/scikit-learn/issues/21755 */display: inline-block !important;position: relative;}#sk-container-id-1 div.sk-text-repr-fallback {display: none;}</style><div id=\"sk-container-id-1\" class=\"sk-top-container\"><div class=\"sk-text-repr-fallback\"><pre>RandomForestClassifier()</pre><b>In a Jupyter environment, please rerun this cell to show the HTML representation or trust the notebook. <br />On GitHub, the HTML representation is unable to render, please try loading this page with nbviewer.org.</b></div><div class=\"sk-container\" hidden><div class=\"sk-item\"><div class=\"sk-estimator sk-toggleable\"><input class=\"sk-toggleable__control sk-hidden--visually\" id=\"sk-estimator-id-1\" type=\"checkbox\" checked><label for=\"sk-estimator-id-1\" class=\"sk-toggleable__label sk-toggleable__label-arrow\">RandomForestClassifier</label><div class=\"sk-toggleable__content\"><pre>RandomForestClassifier()</pre></div></div></div></div></div>"
      ],
      "text/plain": [
       "RandomForestClassifier()"
      ]
     },
     "execution_count": 94,
     "metadata": {},
     "output_type": "execute_result"
    }
   ],
   "source": [
    "rd.fit(X_train,y_train)"
   ]
  },
  {
   "cell_type": "code",
   "execution_count": 97,
   "id": "0b859fb9",
   "metadata": {},
   "outputs": [
    {
     "name": "stdout",
     "output_type": "stream",
     "text": [
      "The score of our trained model is : 0.9928571428571429\n",
      "\n",
      "####################################################################################################\n",
      "The accuracy score of the model : 0.8916666666666667\n",
      "\n",
      "####################################################################################################\n",
      "confusion metrics\n",
      "[[68  5]\n",
      " [ 8 39]]\n",
      "\n",
      "####################################################################################################\n",
      "\n",
      "              precision    recall  f1-score   support\n",
      "\n",
      "           0       0.89      0.93      0.91        73\n",
      "           1       0.89      0.83      0.86        47\n",
      "\n",
      "    accuracy                           0.89       120\n",
      "   macro avg       0.89      0.88      0.88       120\n",
      "weighted avg       0.89      0.89      0.89       120\n",
      "\n",
      "####################################################################################################\n",
      "\n",
      "Cross validation Score Mean : 0.875\n"
     ]
    }
   ],
   "source": [
    "model_score(RandomForestClassifier(n_estimators=20))"
   ]
  },
  {
   "cell_type": "markdown",
   "id": "a7eabb78",
   "metadata": {},
   "source": [
    "### Support Vector Machine"
   ]
  },
  {
   "cell_type": "code",
   "execution_count": 99,
   "id": "e8be2624",
   "metadata": {},
   "outputs": [],
   "source": [
    "from sklearn.svm import SVC"
   ]
  },
  {
   "cell_type": "code",
   "execution_count": 100,
   "id": "2cdca6ed",
   "metadata": {},
   "outputs": [
    {
     "name": "stdout",
     "output_type": "stream",
     "text": [
      "The score of our trained model is : 0.7785714285714286\n",
      "\n",
      "####################################################################################################\n",
      "The accuracy score of the model : 0.7333333333333333\n",
      "\n",
      "####################################################################################################\n",
      "confusion metrics\n",
      "[[70  3]\n",
      " [29 18]]\n",
      "\n",
      "####################################################################################################\n",
      "\n",
      "              precision    recall  f1-score   support\n",
      "\n",
      "           0       0.71      0.96      0.81        73\n",
      "           1       0.86      0.38      0.53        47\n",
      "\n",
      "    accuracy                           0.73       120\n",
      "   macro avg       0.78      0.67      0.67       120\n",
      "weighted avg       0.77      0.73      0.70       120\n",
      "\n",
      "####################################################################################################\n",
      "\n",
      "Cross validation Score Mean : 0.7678571428571429\n"
     ]
    }
   ],
   "source": [
    "model_score(SVC())"
   ]
  },
  {
   "cell_type": "markdown",
   "id": "299914d7",
   "metadata": {},
   "source": [
    "### Assign cross val scores of all models into a dataframe"
   ]
  },
  {
   "cell_type": "code",
   "execution_count": 101,
   "id": "e016c75e",
   "metadata": {},
   "outputs": [
    {
     "data": {
      "text/plain": [
       "{'LogisticRegression': 0.6571428571428571,\n",
       " 'RandomForestClassifier(n_estimators=2': 0.875,\n",
       " 'SVC': 0.7678571428571429}"
      ]
     },
     "execution_count": 101,
     "metadata": {},
     "output_type": "execute_result"
    }
   ],
   "source": [
    "cv_score_list"
   ]
  },
  {
   "cell_type": "code",
   "execution_count": 102,
   "id": "2bc64b47-3d9a-4667-9fcf-527e10a634df",
   "metadata": {},
   "outputs": [
    {
     "data": {
      "text/html": [
       "<div>\n",
       "<style scoped>\n",
       "    .dataframe tbody tr th:only-of-type {\n",
       "        vertical-align: middle;\n",
       "    }\n",
       "\n",
       "    .dataframe tbody tr th {\n",
       "        vertical-align: top;\n",
       "    }\n",
       "\n",
       "    .dataframe thead th {\n",
       "        text-align: right;\n",
       "    }\n",
       "</style>\n",
       "<table border=\"1\" class=\"dataframe\">\n",
       "  <thead>\n",
       "    <tr style=\"text-align: right;\">\n",
       "      <th></th>\n",
       "      <th>Model</th>\n",
       "      <th>Score</th>\n",
       "    </tr>\n",
       "  </thead>\n",
       "  <tbody>\n",
       "    <tr>\n",
       "      <th>0</th>\n",
       "      <td>LogisticRegression</td>\n",
       "      <td>0.657143</td>\n",
       "    </tr>\n",
       "    <tr>\n",
       "      <th>1</th>\n",
       "      <td>RandomForestClassifier(n_estimators=2</td>\n",
       "      <td>0.875000</td>\n",
       "    </tr>\n",
       "    <tr>\n",
       "      <th>2</th>\n",
       "      <td>SVC</td>\n",
       "      <td>0.767857</td>\n",
       "    </tr>\n",
       "  </tbody>\n",
       "</table>\n",
       "</div>"
      ],
      "text/plain": [
       "                                   Model     Score\n",
       "0                     LogisticRegression  0.657143\n",
       "1  RandomForestClassifier(n_estimators=2  0.875000\n",
       "2                                    SVC  0.767857"
      ]
     },
     "execution_count": 102,
     "metadata": {},
     "output_type": "execute_result"
    }
   ],
   "source": [
    "pd.DataFrame(cv_score_list,index=[0]).T.reset_index().rename(columns={'index':'Model',0:'Score'})"
   ]
  },
  {
   "cell_type": "markdown",
   "id": "e4e6010c",
   "metadata": {},
   "source": [
    "## Deploy the model with highest score using Tkinter"
   ]
  },
  {
   "cell_type": "code",
   "execution_count": null,
   "id": "5884c505",
   "metadata": {},
   "outputs": [],
   "source": [
    "### In this case its SVM Classifier"
   ]
  },
  {
   "cell_type": "markdown",
   "id": "76b745c8",
   "metadata": {},
   "source": [
    "#### Import all modules from Tkinter"
   ]
  },
  {
   "cell_type": "code",
   "execution_count": 1,
   "id": "45667888",
   "metadata": {},
   "outputs": [],
   "source": [
    "from tkinter import *\n",
    "from tkinter import ttk\n",
    "import pickle\n",
    "from PIL import Image, ImageTk\n",
    "import numpy as np"
   ]
  },
  {
   "cell_type": "markdown",
   "id": "7060d48e",
   "metadata": {},
   "source": [
    "### Define a function that will output to an entry box in Tkinter"
   ]
  },
  {
   "cell_type": "code",
   "execution_count": 2,
   "id": "d86bf501",
   "metadata": {},
   "outputs": [
    {
     "name": "stdout",
     "output_type": "stream",
     "text": [
      "Person will Purchase\n"
     ]
    },
    {
     "name": "stderr",
     "output_type": "stream",
     "text": [
      "C:\\Users\\Pakistan\\anaconda3\\Lib\\site-packages\\sklearn\\base.py:318: UserWarning: Trying to unpickle estimator LogisticRegression from version 1.4.2 when using version 1.2.2. This might lead to breaking code or invalid results. Use at your own risk. For more info please refer to:\n",
      "https://scikit-learn.org/stable/model_persistence.html#security-maintainability-limitations\n",
      "  warnings.warn(\n"
     ]
    }
   ],
   "source": [
    "with open('model (1).pkl','rb') as f:\n",
    "    new_model = pickle.load(f)\n",
    "def predict_output(age,estimated_salary,is_male=1,):\n",
    "    observation = np.array([age,\n",
    "              estimated_salary])\n",
    "    prediction_value = new_model.predict(observation.reshape(1,-1))\n",
    "    if prediction_value[0]==1:\n",
    "        print('Person will Purchase')\n",
    "    else:\n",
    "        print('Person will not Purchase')\n",
    "\n",
    "predict_output(22,1,20000)"
   ]
  },
  {
   "cell_type": "markdown",
   "id": "789ef923",
   "metadata": {},
   "source": [
    "### Create Tkinter window with all necessary entryboxes and labels"
   ]
  },
  {
   "cell_type": "code",
   "execution_count": null,
   "id": "86b2b232",
   "metadata": {},
   "outputs": [
    {
     "name": "stderr",
     "output_type": "stream",
     "text": [
      "C:\\Users\\Pakistan\\anaconda3\\Lib\\site-packages\\sklearn\\base.py:318: UserWarning: Trying to unpickle estimator LogisticRegression from version 1.4.2 when using version 1.2.2. This might lead to breaking code or invalid results. Use at your own risk. For more info please refer to:\n",
      "https://scikit-learn.org/stable/model_persistence.html#security-maintainability-limitations\n",
      "  warnings.warn(\n"
     ]
    }
   ],
   "source": [
    "root = Tk()\n",
    "root.geometry('500x500')\n",
    "root.resizable(False,False)\n",
    "\n",
    "with open('model (1).pkl','rb') as f:\n",
    "    new_model = pickle.load(f)\n",
    "\n",
    "def predict_out():\n",
    "    if gender_var.get() == 'male':\n",
    "        gender=1\n",
    "    else:\n",
    "        gender=0\n",
    "        \n",
    "    observation = np.array([int(age_entry.get()),\n",
    "              int(salary_entry.get())\n",
    "             ])\n",
    "    print(observation.reshape(1,-1))\n",
    "    prediction_value = new_model.predict(observation.reshape(1,-1))\n",
    "    if prediction_value[0]==1:\n",
    "        prediction_var.set('Person will Purchase')\n",
    "    else:\n",
    "        prediction_var.set('Person will not Purchase')\n",
    "\n",
    "# Main Title\n",
    "Label(master=root,text='Customer Classification',bg='#ffd966',fg='White',font=('serif',28,'bold'),width='30',height=2).pack()\n",
    "\n",
    "# New Frame for Input form\n",
    "input_frame = Frame(root,width=500,height=400,highlightbackground='#ffd966',highlightthickness=7)\n",
    "input_frame.place(x=0,y=100)\n",
    "\n",
    "image = Image.open(\"img.jpg\")\n",
    "resize_image = image.resize((600,600))\n",
    "\n",
    "background_image = ImageTk.PhotoImage(resize_image)\n",
    "background_label = Label(input_frame, image=background_image)\n",
    "background_label.place(x=0, y=0, relwidth=1, relheight=1)\n",
    "\n",
    "# label for age\n",
    "age_label = Label(master=input_frame,text='Enter Age',bg='#ffd966',fg='Black',width='25',height=2,font=('serif',10,'bold'))\n",
    "age_label.place(x=30,y=60)\n",
    "\n",
    "# Entry space for age\n",
    "age_entry = Entry(master=input_frame,width='16',bg='#ffd966',font=('Ariel',15),fg='Black')\n",
    "age_entry.place(x=280,y=67)\n",
    "\n",
    "# Variable to store radiobutton chooosing value\n",
    "gender_var = IntVar()\n",
    "# setting defualt\n",
    "gender_var.set(0)\n",
    "\n",
    "# gender label\n",
    "Gender_label = Label(master=input_frame,text='Choose your Gender',bg='#ffd966',fg='Black',width='25',height=2,font=('serif',10,'bold'))\n",
    "Gender_label.place(x=30,y=125)\n",
    "\n",
    "# gender radio button - Male\n",
    "radio_male = Radiobutton(master=input_frame,text='Male   ',value=0,variable=gender_var,bg='#ffd966',font=('serif',12,'bold'))\n",
    "radio_male.place(x=380,y=130)\n",
    "\n",
    "# gender radio button - Male\n",
    "radio_female = Radiobutton(master=input_frame,text='Female',value=1,variable=gender_var,bg='#ffd966',font=('serif',12,'bold'))\n",
    "radio_female.place(x=280,y=130)\n",
    "\n",
    "\n",
    "\n",
    "# Variable to store radiobutton chooosing value\n",
    "salary_var = IntVar()\n",
    "\n",
    "# label for age\n",
    "salary_label = Label(master=input_frame,text='Enter Salary',bg='#ffd966',fg='Black',width='25',height=2,font=('serif',10,'bold'))\n",
    "salary_label.place(x=30,y=195)\n",
    "\n",
    "# Entry space for age\n",
    "salary_entry = Entry(master=input_frame,width='16',bg='#ffd966',fg='Black',font=('serif',15))\n",
    "salary_entry.place(x=280,y=200)\n",
    "\n",
    "\n",
    "# Prediction Button and Entry\n",
    "prediction_var = StringVar()\n",
    "prediction_var.set(' ')\n",
    "predict_button = Button(input_frame, text = 'Predict',width=10 , bg='#ffd966',fg='Black',font=('serif',10,'bold'),command=predict_out)\n",
    "predict_button.place(x=196,y=320)\n",
    "prediction_entry = Entry(master=input_frame,width=21,bd=5,bg='#ffd966',textvariable=prediction_var,font=('serif',12,'bold'))\n",
    "prediction_entry.place(x=147,y=270)\n",
    "\n",
    "\n",
    "root.mainloop()"
   ]
  },
  {
   "cell_type": "markdown",
   "id": "f59e04bd",
   "metadata": {},
   "source": [
    "***"
   ]
  }
 ],
 "metadata": {
  "kernelspec": {
   "display_name": "Python 3 (ipykernel)",
   "language": "python",
   "name": "python3"
  },
  "language_info": {
   "codemirror_mode": {
    "name": "ipython",
    "version": 3
   },
   "file_extension": ".py",
   "mimetype": "text/x-python",
   "name": "python",
   "nbconvert_exporter": "python",
   "pygments_lexer": "ipython3",
   "version": "3.11.7"
  }
 },
 "nbformat": 4,
 "nbformat_minor": 5
}
